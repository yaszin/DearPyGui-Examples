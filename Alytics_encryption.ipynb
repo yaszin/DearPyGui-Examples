{
  "nbformat": 4,
  "nbformat_minor": 0,
  "metadata": {
    "colab": {
      "name": "Untitled1.ipynb",
      "provenance": [],
      "collapsed_sections": [],
      "authorship_tag": "ABX9TyOSGuBJdY+POdrcKqyfPVQO",
      "include_colab_link": true
    },
    "kernelspec": {
      "name": "python3",
      "display_name": "Python 3"
    },
    "language_info": {
      "name": "python"
    }
  },
  "cells": [
    {
      "cell_type": "markdown",
      "metadata": {
        "id": "view-in-github",
        "colab_type": "text"
      },
      "source": [
        "<a href=\"https://colab.research.google.com/github/yaszin/DearPyGui-Examples/blob/dependabot%2Fpip%2Fdearpygui-0.6.151/Alytics_encryption.ipynb\" target=\"_parent\"><img src=\"https://colab.research.google.com/assets/colab-badge.svg\" alt=\"Open In Colab\"/></a>"
      ]
    },
    {
      "cell_type": "code",
      "metadata": {
        "colab": {
          "base_uri": "https://localhost:8080/"
        },
        "id": "djLYnrDL0ODp",
        "outputId": "54b11c57-9b22-4f4a-8cef-9b57a78b9dbd"
      },
      "source": [
        "# En caso de que no se tenga instalada la librería, ejecutar esta celda\n",
        "pip install cryptography"
      ],
      "execution_count": 2,
      "outputs": [
        {
          "output_type": "stream",
          "text": [
            "Collecting cryptography\n",
            "\u001b[?25l  Downloading https://files.pythonhosted.org/packages/b2/26/7af637e6a7e87258b963f1731c5982fb31cd507f0d90d91836e446955d02/cryptography-3.4.7-cp36-abi3-manylinux2014_x86_64.whl (3.2MB)\n",
            "\u001b[K     |████████████████████████████████| 3.2MB 24.5MB/s \n",
            "\u001b[?25hRequirement already satisfied: cffi>=1.12 in /usr/local/lib/python3.7/dist-packages (from cryptography) (1.14.5)\n",
            "Requirement already satisfied: pycparser in /usr/local/lib/python3.7/dist-packages (from cffi>=1.12->cryptography) (2.20)\n",
            "Installing collected packages: cryptography\n",
            "Successfully installed cryptography-3.4.7\n"
          ],
          "name": "stdout"
        }
      ]
    },
    {
      "cell_type": "code",
      "metadata": {
        "id": "9r-BiusKzI5g"
      },
      "source": [
        "# Ejecutar siempre esta celda\n",
        "\n",
        "from cryptography.fernet import Fernet\n",
        "key = b'c4mLkAgvBOhk2WedbYHstyWFN8ZF-fWt1393-Po-Kzs='"
      ],
      "execution_count": 3,
      "outputs": []
    },
    {
      "cell_type": "code",
      "metadata": {
        "colab": {
          "base_uri": "https://localhost:8080/",
          "height": 35
        },
        "id": "KkNqlqcLzM42",
        "outputId": "d93ac3cf-8b3b-47aa-f752-ad858e06fc38"
      },
      "source": [
        "# Ejecutar para desencriptar Token y mostrar contraseña\n",
        "\n",
        "cipher = Fernet(key)\n",
        "\n",
        "# Ejemplo :\n",
        "# encryptedpwd = b'AAAAAAAAAAAAAAAAAAAAAAAAA' \n",
        "\n",
        "encryptedpwd = b'gAAAAABg2t92BFTw5iRzlPm9PTVakiMSbKlOzxz9WAErGllt0O3PvPAEpFN0-PHNTtoQPr3_02Ddmpr6GhpJXWnDuMW1V9EGlg=='\n",
        "mypassword = cipher.decrypt(encryptedpwd).decode('utf-8')\n",
        "mypassword"
      ],
      "execution_count": 5,
      "outputs": [
        {
          "output_type": "execute_result",
          "data": {
            "application/vnd.google.colaboratory.intrinsic+json": {
              "type": "string"
            },
            "text/plain": [
              "'@=Uyr2iLfpbo'"
            ]
          },
          "metadata": {
            "tags": []
          },
          "execution_count": 5
        }
      ]
    },
    {
      "cell_type": "code",
      "metadata": {
        "colab": {
          "base_uri": "https://localhost:8080/"
        },
        "id": "6R-SmXc3zi4n",
        "outputId": "d5835b21-b509-445d-8fd9-ee42ee9dc2b5"
      },
      "source": [
        "# Ejecutar para encriptar Contraseña y generar Token\n",
        "\n",
        "cipher = Fernet(key)\n",
        "password = \"aquí_la_contraseña\".encode('utf-8')\n",
        "token = cipher.encrypt(password)\n",
        "print(token)"
      ],
      "execution_count": 7,
      "outputs": [
        {
          "output_type": "stream",
          "text": [
            "b'gAAAAABg3B1WpE-EIF9SybCr0y0T2e1ywBH05ZvV-PpSHhCM7MWRsV-6Pr9n_gNmQ9W7W1FLyqgYli0MEGtWH8VYGtHQhGDxSUxtvmEsweLA2WajB04ZY2k='\n"
          ],
          "name": "stdout"
        }
      ]
    },
    {
      "cell_type": "markdown",
      "metadata": {
        "id": "LQyOcCI-zyoa"
      },
      "source": [
        "Cuando se genere el Token (en caso de querer encriptar la contraseña), pegarla en el archivo **src/secret.bin **"
      ]
    },
    {
      "cell_type": "code",
      "metadata": {
        "id": "88_uWbAjz96O"
      },
      "source": [
        ""
      ],
      "execution_count": null,
      "outputs": []
    }
  ]
}